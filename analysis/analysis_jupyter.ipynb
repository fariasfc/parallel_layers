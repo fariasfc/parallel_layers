{
 "cells": [
  {
   "cell_type": "code",
   "execution_count": null,
   "source": [
    "from analysis import analysis_utils\n",
    "import re\n",
    "import pandas as pd"
   ],
   "outputs": [],
   "metadata": {}
  },
  {
   "cell_type": "code",
   "execution_count": null,
   "source": [
    "\n",
    "\n",
    "metric_name = \"overall_acc\"\n",
    "\n",
    "df = analysis_utils.wandb_to_df(\n",
    "\t[\n",
    "\t\t# \"exp_14_stacking\",\n",
    "\t\t# \"exp_14_stacking_rtol0.01\",\n",
    "\t\t# \"exp_11\",\n",
    "\t\t# \"exp_11_boosting\",\n",
    "\t\t# # \"exp_12_rtol\",\n",
    "\t\t# \"exp_13_rol_boosting\",\n",
    "\t\t# \"exp_004_clean\"\n",
    "\t\t# \"exp_011_rtol0.01\",\n",
    "\t\t# \"exp_011_rtol0.001\",\n",
    "\t\t# \"exp_011_autoencoders\",\n",
    "\t\t# \"exp_011_autoencoders_50\",\n",
    "\t\t# \"exp_012_rtol0.01\",\n",
    "\t\t# \"exp_013_12foiautoencoders_rtol0.01\",\n",
    "\t\t# \"exp_014_rtol_defato_0.01\",\n",
    "\t\t\"exp0007\",\n",
    "\t\t\"exp0009_stack_hidden_maxlayers2_noappend\",\n",
    "\t\t\"exp0009_maxlayers1\",\n",
    "\t\t\"exp0009_maxlayers2\",\n",
    "\t\t\"exp0009_stack_hidden_maxlayers2\",\n",
    "\t\t\"exp0016\",\n",
    "\t\t\"exp0016_tanh\",\n",
    "\t\t\"exp0016_relu\",\n",
    "\t],\n",
    "\tmetric_name,\n",
    ")\n",
    "df = df.sort_index(axis=1)"
   ],
   "outputs": [],
   "metadata": {}
  },
  {
   "cell_type": "code",
   "execution_count": null,
   "source": [
    "df.head()"
   ],
   "outputs": [],
   "metadata": {}
  },
  {
   "cell_type": "code",
   "execution_count": null,
   "source": [
    "\n",
    "metric_columns = [\n",
    "    c\n",
    "    for c in df.columns\n",
    "    if re.match(r\"test_.*[1\\-nn|3\\-nn|svm|xgboost|rf|autoconstructive]_*\" + metric_name, c)\n",
    "    # if re.match(\"test_.*[drl]_\" + metric, c)\n",
    "]\n",
    "\n",
    "df_filtered_tmp = df[metric_columns + [\"project\", \"dataset_name\"]]\n",
    "df_filtered = pd.DataFrame()\n",
    "for project in df_filtered_tmp['project'].unique():\n",
    "    df_p = df[df['project'] == project]\n",
    "    for dataset_name in df_p['dataset_name'].unique():\n",
    "        df_p_d = df_p[df_p['dataset_name'] == dataset_name]\n",
    "        tmp_df = df_p_d.iloc[:20, :]\n",
    "\n",
    "        df_filtered = pd.concat((df_filtered, tmp_df))\n",
    "\n",
    "df_wilcoxon = analysis_utils.wilcoxon_tests(df_filtered, metric_name)\n",
    "df_wilcoxon.to_csv(\"analysis_wilcoxon.csv\")\n",
    "\n",
    "df_pivot = df_wilcoxon[df_wilcoxon[\"g1\"] == f\"test_drl_untrained_{metric_name}\"].pivot(\n",
    "    index=[\"project\", \"dataset_name\"],\n",
    "    columns=\"g2\",\n",
    "    values=[\"g1_mean\", \"g2_mean\", \"wilcoxon_result\"],\n",
    ")\n",
    "df_pivot.columns = df_pivot.columns.swaplevel(0, 1)\n",
    "df_pivot.sort_index(1).to_csv(\"pivot_untrained.csv\")\n",
    "\n",
    "df_pivot = df_wilcoxon[df_wilcoxon[\"g1\"] == f\"test_drl_{metric_name}\"].pivot(\n",
    "    index=[\"project\", \"dataset_name\"],\n",
    "    columns=\"g2\",\n",
    "    values=[\"g1_mean\", \"g2_mean\", \"wilcoxon_result\"],\n",
    ")\n",
    "df_pivot.columns = df_pivot.columns.swaplevel(0, 1)\n",
    "df_pivot.sort_index(1).to_csv(\"pivot_trained.csv\")\n",
    "\n",
    "# plot_html(df)\n",
    "# df[[\"project\", \"dataset_name\", \"g2\", \"wilcoxon_result\"]].pivot(\n",
    "#     \"project\", \"dataset_name\", \"g2\", \"wilcoxon_result\"\n",
    "# ).to_csv(\"pivot.csv\")\n",
    "df_filtered.melt([\"project\", \"dataset_name\"]).groupby(\n",
    "    [\"project\", \"dataset_name\", \"variable\"]\n",
    ").mean().unstack([0, 2]).to_csv(\"analysis2.csv\")\n",
    "avg = df_wilcoxon.groupby([\"project\", \"dataset_name\"]).mean()\n",
    "avg.to_csv(\"analysis.csv\")\n",
    "with open(\"analysis.html\", \"w\") as html_file:\n",
    "    html_file.write(avg.style.highlight_max(color=\"lightgreen\", axis=1).render())\n",
    "print(df_wilcoxon)"
   ],
   "outputs": [],
   "metadata": {}
  }
 ],
 "metadata": {
  "orig_nbformat": 4,
  "language_info": {
   "name": "python",
   "version": "3.9.7",
   "mimetype": "text/x-python",
   "codemirror_mode": {
    "name": "ipython",
    "version": 3
   },
   "pygments_lexer": "ipython3",
   "nbconvert_exporter": "python",
   "file_extension": ".py"
  },
  "kernelspec": {
   "name": "python3",
   "display_name": "Python 3.9.7 64-bit ('doutorado': conda)"
  },
  "interpreter": {
   "hash": "393c6e55a44dd91c1697692c71b8d8b23a4cea84753e6185a53c4fbe3b458edb"
  }
 },
 "nbformat": 4,
 "nbformat_minor": 2
}