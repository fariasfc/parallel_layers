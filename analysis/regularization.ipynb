{
 "cells": [
  {
   "cell_type": "code",
   "execution_count": 53,
   "metadata": {},
   "outputs": [
    {
     "name": "stdout",
     "output_type": "stream",
     "text": [
      "tensor([[ 3.],\n",
      "        [12.],\n",
      "        [27.],\n",
      "        [12.],\n",
      "        [30.],\n",
      "        [54.]])\n",
      "tensor([[ 1.],\n",
      "        [ 5.],\n",
      "        [15.],\n",
      "        [ 7.],\n",
      "        [17.],\n",
      "        [33.]])\n",
      "tensor([[ 2.],\n",
      "        [ 8.],\n",
      "        [18.],\n",
      "        [ 8.],\n",
      "        [20.],\n",
      "        [36.]])\n"
     ]
    },
    {
     "ename": "RuntimeError",
     "evalue": "Expected index [12, 1] to be smaller than self [6, 1] apart from dimension 0 and to be smaller size than src [6, 1]",
     "output_type": "error",
     "traceback": [
      "\u001b[0;31m---------------------------------------------------------------------------\u001b[0m",
      "\u001b[0;31mRuntimeError\u001b[0m                              Traceback (most recent call last)",
      "\u001b[0;32m<ipython-input-53-62f9444d247e>\u001b[0m in \u001b[0;36m<module>\u001b[0;34m\u001b[0m\n\u001b[1;32m     35\u001b[0m \u001b[0mprint\u001b[0m\u001b[0;34m(\u001b[0m\u001b[0mtorch\u001b[0m\u001b[0;34m.\u001b[0m\u001b[0mzeros\u001b[0m\u001b[0;34m(\u001b[0m\u001b[0;36m6\u001b[0m\u001b[0;34m,\u001b[0m\u001b[0;36m1\u001b[0m\u001b[0;34m)\u001b[0m\u001b[0;34m.\u001b[0m\u001b[0mscatter_add\u001b[0m\u001b[0;34m(\u001b[0m\u001b[0;36m0\u001b[0m\u001b[0;34m,\u001b[0m \u001b[0mhidden_neuron__model_id\u001b[0m\u001b[0;34m,\u001b[0m \u001b[0;34m(\u001b[0m\u001b[0mb_in_hid\u001b[0m\u001b[0;34m)\u001b[0m\u001b[0;34m[\u001b[0m\u001b[0;34m:\u001b[0m\u001b[0;34m,\u001b[0m \u001b[0;32mNone\u001b[0m\u001b[0;34m]\u001b[0m\u001b[0;34m)\u001b[0m\u001b[0;34m)\u001b[0m\u001b[0;34m\u001b[0m\u001b[0;34m\u001b[0m\u001b[0m\n\u001b[1;32m     36\u001b[0m \u001b[0mprint\u001b[0m\u001b[0;34m(\u001b[0m\u001b[0mtorch\u001b[0m\u001b[0;34m.\u001b[0m\u001b[0mzeros\u001b[0m\u001b[0;34m(\u001b[0m\u001b[0;36m6\u001b[0m\u001b[0;34m,\u001b[0m\u001b[0;36m1\u001b[0m\u001b[0;34m)\u001b[0m\u001b[0;34m.\u001b[0m\u001b[0mscatter_add\u001b[0m\u001b[0;34m(\u001b[0m\u001b[0;36m0\u001b[0m\u001b[0;34m,\u001b[0m \u001b[0mhidden_neuron__model_id\u001b[0m\u001b[0;34m,\u001b[0m \u001b[0;34m(\u001b[0m\u001b[0mw_hid_out\u001b[0m\u001b[0;34m)\u001b[0m\u001b[0;34m.\u001b[0m\u001b[0msum\u001b[0m\u001b[0;34m(\u001b[0m\u001b[0;36m0\u001b[0m\u001b[0;34m)\u001b[0m\u001b[0;34m[\u001b[0m\u001b[0;34m:\u001b[0m\u001b[0;34m,\u001b[0m \u001b[0;32mNone\u001b[0m\u001b[0;34m]\u001b[0m\u001b[0;34m)\u001b[0m\u001b[0;34m)\u001b[0m\u001b[0;34m\u001b[0m\u001b[0;34m\u001b[0m\u001b[0m\n\u001b[0;32m---> 37\u001b[0;31m \u001b[0mprint\u001b[0m\u001b[0;34m(\u001b[0m\u001b[0mtorch\u001b[0m\u001b[0;34m.\u001b[0m\u001b[0mzeros\u001b[0m\u001b[0;34m(\u001b[0m\u001b[0;36m6\u001b[0m\u001b[0;34m,\u001b[0m\u001b[0;36m1\u001b[0m\u001b[0;34m)\u001b[0m\u001b[0;34m.\u001b[0m\u001b[0mscatter_add\u001b[0m\u001b[0;34m(\u001b[0m\u001b[0;36m0\u001b[0m\u001b[0;34m,\u001b[0m \u001b[0mhidden_neuron__model_id\u001b[0m\u001b[0;34m,\u001b[0m \u001b[0;34m(\u001b[0m\u001b[0mb_hid_out\u001b[0m\u001b[0;34m.\u001b[0m\u001b[0msum\u001b[0m\u001b[0;34m(\u001b[0m\u001b[0;36m1\u001b[0m\u001b[0;34m)\u001b[0m\u001b[0;34m)\u001b[0m\u001b[0;34m[\u001b[0m\u001b[0;34m:\u001b[0m\u001b[0;34m,\u001b[0m \u001b[0;32mNone\u001b[0m\u001b[0;34m]\u001b[0m\u001b[0;34m)\u001b[0m\u001b[0;34m)\u001b[0m\u001b[0;34m\u001b[0m\u001b[0;34m\u001b[0m\u001b[0m\n\u001b[0m\u001b[1;32m     38\u001b[0m \u001b[0;31m# print(6**9)\u001b[0m\u001b[0;34m\u001b[0m\u001b[0;34m\u001b[0m\u001b[0;34m\u001b[0m\u001b[0m\n\u001b[1;32m     39\u001b[0m \u001b[0;31m# hidd\u001b[0m\u001b[0;34m\u001b[0m\u001b[0;34m\u001b[0m\u001b[0;34m\u001b[0m\u001b[0m\n",
      "\u001b[0;31mRuntimeError\u001b[0m: Expected index [12, 1] to be smaller than self [6, 1] apart from dimension 0 and to be smaller size than src [6, 1]"
     ]
    }
   ],
   "source": [
    "import torch\n",
    "\n",
    "w_in_hid = torch.Tensor([\n",
    "\t[1, 1, 1],\n",
    "\t[2, 2, 2],\n",
    "\t[2, 2, 2],\n",
    "\t[3, 3, 3],\n",
    "\t[3, 3, 3],\n",
    "\t[3, 3, 3],\n",
    "\t[4, 4, 4],\n",
    "\t[5, 5, 5],\n",
    "\t[5, 5, 5],\n",
    "\t[6, 6, 6],\n",
    "\t[6, 6, 6],\n",
    "\t[6, 6, 6],\n",
    "]) # hidden vs. inputs, 12, 3\n",
    "b_in_hid = torch.Tensor([1, 2, 3, 4, 5, 6, 7, 8, 9, 10, 11, 12])\n",
    "\n",
    "w_hid_out = torch.Tensor([\n",
    "\t[1, 2, 2, 3, 3, 3, 4, 5, 5, 6, 6, 6],\n",
    "\t[1, 2, 2, 3, 3, 3, 4, 5, 5, 6, 6, 6],\n",
    "]) # outputs, hidden 2, 12\n",
    "b_hid_out = torch.Tensor([[1, 1], [2, 2], [3, 3], [4, 4], [5, 5], [6, 6]])\n",
    "\n",
    "hidden_neuron__model_id = torch.Tensor([0, 1, 1, 2, 2, 2, 3, 4, 4, 5, 5, 5]).long()\n",
    "hidden_neuron__model_id = hidden_neuron__model_id[:, None] # 12,1\n",
    "\n",
    "# print(f\"w_in_hid:\\n{w_in_hid}{w_in_hid.shape}\")\n",
    "# print(f\"w_hid_out:\\n{w_hid_out}{w_hid_out.shape}\")\n",
    "# print(f\"hidden_neuron__model_id:\\n{hidden_neuron__model_id}{hidden_neuron__model_id.shape}\")\n",
    "# self[index[i][j]][j] *= src[i][j] \n",
    "# hidden_neuron__model_id = hidden_neuron__model_id.repeat((1,3))\n",
    "\n",
    "print(torch.zeros(6,1).scatter_add(0, hidden_neuron__model_id, (w_in_hid).sum(-1)[:, None]))\n",
    "print(torch.zeros(6,1).scatter_add(0, hidden_neuron__model_id, (b_in_hid)[:, None]))\n",
    "print(torch.zeros(6,1).scatter_add(0, hidden_neuron__model_id, (w_hid_out).sum(0)[:, None]))\n",
    "print(torch.zeros(6,1).scatter_add(0, hidden_neuron__model_id, (b_hid_out.sum(1))[:, None]))\n",
    "# print(6**9)\n",
    "# hidd"
   ]
  }
 ],
 "metadata": {
  "language_info": {
   "name": "python"
  },
  "orig_nbformat": 4
 },
 "nbformat": 4,
 "nbformat_minor": 2
}
