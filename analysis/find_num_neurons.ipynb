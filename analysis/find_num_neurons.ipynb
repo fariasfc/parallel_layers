{
 "cells": [
  {
   "cell_type": "code",
   "execution_count": 1,
   "metadata": {},
   "outputs": [],
   "source": [
    "import seaborn as sns"
   ]
  },
  {
   "cell_type": "code",
   "execution_count": 21,
   "metadata": {},
   "outputs": [
    {
     "data": {
      "text/html": [
       "<div>\n",
       "<style scoped>\n",
       "    .dataframe tbody tr th:only-of-type {\n",
       "        vertical-align: middle;\n",
       "    }\n",
       "\n",
       "    .dataframe tbody tr th {\n",
       "        vertical-align: top;\n",
       "    }\n",
       "\n",
       "    .dataframe thead th {\n",
       "        text-align: right;\n",
       "    }\n",
       "</style>\n",
       "<table border=\"1\" class=\"dataframe\">\n",
       "  <thead>\n",
       "    <tr style=\"text-align: right;\">\n",
       "      <th></th>\n",
       "      <th>Unnamed: 0</th>\n",
       "      <th>architecture_id</th>\n",
       "      <th>num_neurons</th>\n",
       "      <th>regularization_term</th>\n",
       "      <th>training_loss</th>\n",
       "      <th>validation_loss</th>\n",
       "      <th>model_id</th>\n",
       "      <th>start_epoch</th>\n",
       "      <th>end_epoch</th>\n",
       "      <th>train_aucroc_micro</th>\n",
       "      <th>...</th>\n",
       "      <th>valid_overall_acc</th>\n",
       "      <th>test_aucroc_micro</th>\n",
       "      <th>test_aucroc_macro</th>\n",
       "      <th>test_aucroc_weighted</th>\n",
       "      <th>test_aucroc_samples</th>\n",
       "      <th>test_matthews_corrcoef</th>\n",
       "      <th>test_f1_macro</th>\n",
       "      <th>test_f1_micro</th>\n",
       "      <th>test_overall_acc</th>\n",
       "      <th>activation_name</th>\n",
       "    </tr>\n",
       "  </thead>\n",
       "  <tbody>\n",
       "    <tr>\n",
       "      <th>0</th>\n",
       "      <td>0</td>\n",
       "      <td>0</td>\n",
       "      <td>1</td>\n",
       "      <td>6.732450</td>\n",
       "      <td>0.657658</td>\n",
       "      <td>0.658622</td>\n",
       "      <td>0</td>\n",
       "      <td>0.0</td>\n",
       "      <td>99</td>\n",
       "      <td>0.566923</td>\n",
       "      <td>...</td>\n",
       "      <td>0.641026</td>\n",
       "      <td>0.555346</td>\n",
       "      <td>0.500000</td>\n",
       "      <td>0.475808</td>\n",
       "      <td>0.666667</td>\n",
       "      <td>0.330798</td>\n",
       "      <td>0.664127</td>\n",
       "      <td>0.666667</td>\n",
       "      <td>0.666667</td>\n",
       "      <td>Identity()</td>\n",
       "    </tr>\n",
       "    <tr>\n",
       "      <th>1</th>\n",
       "      <td>1</td>\n",
       "      <td>1</td>\n",
       "      <td>2</td>\n",
       "      <td>4.426847</td>\n",
       "      <td>0.482172</td>\n",
       "      <td>0.491109</td>\n",
       "      <td>1</td>\n",
       "      <td>0.0</td>\n",
       "      <td>99</td>\n",
       "      <td>0.891541</td>\n",
       "      <td>...</td>\n",
       "      <td>0.801282</td>\n",
       "      <td>0.894560</td>\n",
       "      <td>0.887179</td>\n",
       "      <td>0.887737</td>\n",
       "      <td>0.840580</td>\n",
       "      <td>0.677176</td>\n",
       "      <td>0.838407</td>\n",
       "      <td>0.840580</td>\n",
       "      <td>0.840580</td>\n",
       "      <td>Identity()</td>\n",
       "    </tr>\n",
       "    <tr>\n",
       "      <th>2</th>\n",
       "      <td>2</td>\n",
       "      <td>2</td>\n",
       "      <td>3</td>\n",
       "      <td>4.634713</td>\n",
       "      <td>0.407352</td>\n",
       "      <td>0.397975</td>\n",
       "      <td>2</td>\n",
       "      <td>0.0</td>\n",
       "      <td>99</td>\n",
       "      <td>0.910533</td>\n",
       "      <td>...</td>\n",
       "      <td>0.878205</td>\n",
       "      <td>0.927326</td>\n",
       "      <td>0.925214</td>\n",
       "      <td>0.924935</td>\n",
       "      <td>0.898551</td>\n",
       "      <td>0.794724</td>\n",
       "      <td>0.897168</td>\n",
       "      <td>0.898551</td>\n",
       "      <td>0.898551</td>\n",
       "      <td>Identity()</td>\n",
       "    </tr>\n",
       "    <tr>\n",
       "      <th>3</th>\n",
       "      <td>3</td>\n",
       "      <td>3</td>\n",
       "      <td>4</td>\n",
       "      <td>4.008699</td>\n",
       "      <td>0.405150</td>\n",
       "      <td>0.405159</td>\n",
       "      <td>3</td>\n",
       "      <td>0.0</td>\n",
       "      <td>99</td>\n",
       "      <td>0.917063</td>\n",
       "      <td>...</td>\n",
       "      <td>0.871795</td>\n",
       "      <td>0.929637</td>\n",
       "      <td>0.924359</td>\n",
       "      <td>0.924415</td>\n",
       "      <td>0.913043</td>\n",
       "      <td>0.823077</td>\n",
       "      <td>0.911538</td>\n",
       "      <td>0.913043</td>\n",
       "      <td>0.913043</td>\n",
       "      <td>Identity()</td>\n",
       "    </tr>\n",
       "    <tr>\n",
       "      <th>4</th>\n",
       "      <td>4</td>\n",
       "      <td>4</td>\n",
       "      <td>5</td>\n",
       "      <td>4.244227</td>\n",
       "      <td>0.413947</td>\n",
       "      <td>0.429383</td>\n",
       "      <td>4</td>\n",
       "      <td>0.0</td>\n",
       "      <td>99</td>\n",
       "      <td>0.900895</td>\n",
       "      <td>...</td>\n",
       "      <td>0.820513</td>\n",
       "      <td>0.914304</td>\n",
       "      <td>0.908120</td>\n",
       "      <td>0.908621</td>\n",
       "      <td>0.898551</td>\n",
       "      <td>0.794368</td>\n",
       "      <td>0.895387</td>\n",
       "      <td>0.898551</td>\n",
       "      <td>0.898551</td>\n",
       "      <td>Identity()</td>\n",
       "    </tr>\n",
       "  </tbody>\n",
       "</table>\n",
       "<p>5 rows × 34 columns</p>\n",
       "</div>"
      ],
      "text/plain": [
       "   Unnamed: 0  architecture_id  num_neurons  regularization_term  \\\n",
       "0           0                0            1             6.732450   \n",
       "1           1                1            2             4.426847   \n",
       "2           2                2            3             4.634713   \n",
       "3           3                3            4             4.008699   \n",
       "4           4                4            5             4.244227   \n",
       "\n",
       "   training_loss  validation_loss  model_id  start_epoch  end_epoch  \\\n",
       "0       0.657658         0.658622         0          0.0         99   \n",
       "1       0.482172         0.491109         1          0.0         99   \n",
       "2       0.407352         0.397975         2          0.0         99   \n",
       "3       0.405150         0.405159         3          0.0         99   \n",
       "4       0.413947         0.429383         4          0.0         99   \n",
       "\n",
       "   train_aucroc_micro  ...  valid_overall_acc  test_aucroc_micro  \\\n",
       "0            0.566923  ...           0.641026           0.555346   \n",
       "1            0.891541  ...           0.801282           0.894560   \n",
       "2            0.910533  ...           0.878205           0.927326   \n",
       "3            0.917063  ...           0.871795           0.929637   \n",
       "4            0.900895  ...           0.820513           0.914304   \n",
       "\n",
       "   test_aucroc_macro  test_aucroc_weighted  test_aucroc_samples  \\\n",
       "0           0.500000              0.475808             0.666667   \n",
       "1           0.887179              0.887737             0.840580   \n",
       "2           0.925214              0.924935             0.898551   \n",
       "3           0.924359              0.924415             0.913043   \n",
       "4           0.908120              0.908621             0.898551   \n",
       "\n",
       "   test_matthews_corrcoef  test_f1_macro  test_f1_micro  test_overall_acc  \\\n",
       "0                0.330798       0.664127       0.666667          0.666667   \n",
       "1                0.677176       0.838407       0.840580          0.840580   \n",
       "2                0.794724       0.897168       0.898551          0.898551   \n",
       "3                0.823077       0.911538       0.913043          0.913043   \n",
       "4                0.794368       0.895387       0.898551          0.898551   \n",
       "\n",
       "   activation_name  \n",
       "0       Identity()  \n",
       "1       Identity()  \n",
       "2       Identity()  \n",
       "3       Identity()  \n",
       "4       Identity()  \n",
       "\n",
       "[5 rows x 34 columns]"
      ]
     },
     "execution_count": 21,
     "metadata": {},
     "output_type": "execute_result"
    }
   ],
   "source": [
    "import plotly.express as px\n",
    "import pandas as pd\n",
    "import numpy as np\n",
    "import pymcdm\n",
    "np.set_printoptions(suppress=True, precision=4) \n",
    "\n",
    "validation_df = pd.read_csv(\"analysis/data/validation_df_epoch99.csv\")\n",
    "df = pd.read_csv(\"analysis/results_df_find_num_neurons.csv\")\n",
    "df = pd.read_csv(\"analysis/data/validation_df_epoch99.csv\")\n",
    "df[\"activation_name\"] = df[\"activation\"]\n",
    "df = df.drop([\"activation\"], axis=1)\n",
    "df.head()\n",
    "# grouped_df = df.groupby([\"activation_name\", \"architecture_id\"]).agg([\"mean\", \"std\"]).reset_index()\n",
    "# grouped_df.head()\n"
   ]
  },
  {
   "cell_type": "code",
   "execution_count": 4,
   "metadata": {},
   "outputs": [
    {
     "data": {
      "text/plain": [
       "20"
      ]
     },
     "execution_count": 4,
     "metadata": {},
     "output_type": "execute_result"
    }
   ],
   "source": [
    "# px.violin(grouped_df, x=\"num_neurons\", y=\"loss\", orientation=\"h\").update_traces(side=\"positive\", width=4)\n",
    "# px.scatter_3d(grouped_df, x=(\"num_neurons\", \"mean\"), y=\"activation_name\", z=(\"loss\", \"mean\"))\n",
    "df.groupby(\"architecture_id\").median().head().sort_values(\"loss\")\n",
    "\n",
    "grouped_df.head().sort_values(( \"loss\", \"mean\"))\n",
    "df.groupby([\"activation_name\", \"architecture_id\"]).agg([\"mean\", \"min\", \"std\", \"count\", lambda x: x.quantile(0.95)]).reset_index().sort_values(by=(\"loss\", \"<lambda_0>\"))[(\"model_id\",\"count\")].values[0]\n",
    "\n"
   ]
  },
  {
   "cell_type": "code",
   "execution_count": null,
   "metadata": {},
   "outputs": [],
   "source": []
  },
  {
   "cell_type": "code",
   "execution_count": 71,
   "metadata": {},
   "outputs": [
    {
     "name": "stdout",
     "output_type": "stream",
     "text": [
      "3\n"
     ]
    },
    {
     "data": {
      "application/vnd.plotly.v1+json": {
       "config": {
        "plotlyServerURL": "https://plot.ly"
       },
       "data": [
        {
         "hovertemplate": "rank=%{x}<br>num_neurons=%{marker.size}<br>median_test_overall_acc=%{z}<br>median_valid_overall_acc=%{marker.color}<extra></extra>",
         "legendgroup": "",
         "marker": {
          "color": [
           0.7852564102564102,
           0.8365384615384615,
           0.8461538461538461,
           0.8525641025641025,
           0.8653846153846154,
           0.8717948717948718,
           0.8685897435897436,
           0.875,
           0.875,
           0.8717948717948718,
           0.8782051282051282,
           0.8717948717948718,
           0.8717948717948718,
           0.8685897435897436,
           0.8685897435897436,
           0.8653846153846154,
           0.8717948717948718,
           0.8717948717948718,
           0.8717948717948718,
           0.8717948717948718,
           0.8717948717948718,
           0.8653846153846154,
           0.5512820512820513,
           0.6602564102564102,
           0.7724358974358975,
           0.8878205128205128,
           0.8846153846153846,
           0.8846153846153846,
           0.8846153846153846,
           0.8846153846153846
          ],
          "coloraxis": "coloraxis",
          "size": [
           1,
           2,
           3,
           5,
           6,
           7,
           8,
           9,
           10,
           11,
           12,
           13,
           14,
           15,
           16,
           18,
           19,
           20,
           21,
           23,
           16,
           24,
           1,
           2,
           5,
           83,
           88,
           91,
           93,
           97
          ],
          "sizemode": "area",
          "sizeref": 0.2425,
          "symbol": "circle"
         },
         "mode": "markers",
         "name": "",
         "scene": "scene",
         "showlegend": false,
         "type": "scatter3d",
         "x": [
          0.7365814553583553,
          0.8644937681803228,
          0.9026371082279913,
          0.9145282605161557,
          0.9318477295387733,
          0.9302443864116511,
          0.922030619399858,
          0.9162616327045929,
          0.910051084269193,
          0.8984867492032536,
          0.890795100114445,
          0.88283469736387,
          0.8752995220058607,
          0.8645755379358319,
          0.8570489287419313,
          0.8383456008010751,
          0.8287001816313169,
          0.8198134846555012,
          0.8105630698993256,
          0.7920199904160081,
          0.8564802283058522,
          0.7830710339392323,
          0.7494139462742037,
          0.7754095948196325,
          0.822997499742008,
          0.334283080527359,
          0.315205418691741,
          0.3037972881753277,
          0.29962378787107297,
          0.2896471526096119
         ],
         "y": [
          1,
          2,
          3,
          5,
          6,
          7,
          8,
          9,
          10,
          11,
          12,
          13,
          14,
          15,
          16,
          18,
          19,
          20,
          21,
          23,
          16,
          24,
          1,
          2,
          5,
          83,
          88,
          91,
          93,
          97
         ],
         "z": [
          0.8478260869565217,
          0.8695652173913043,
          0.8985507246376812,
          0.8985507246376812,
          0.8985507246376812,
          0.8985507246376812,
          0.8840579710144928,
          0.8840579710144928,
          0.8695652173913043,
          0.8840579710144928,
          0.8840579710144928,
          0.8840579710144928,
          0.8768115942028986,
          0.8695652173913043,
          0.8840579710144928,
          0.8695652173913043,
          0.8695652173913043,
          0.8695652173913043,
          0.8695652173913043,
          0.8695652173913043,
          0.8695652173913043,
          0.8695652173913043,
          0.5652173913043478,
          0.7028985507246377,
          0.8478260869565217,
          0.8985507246376812,
          0.8985507246376812,
          0.8985507246376812,
          0.9057971014492754,
          0.8985507246376812
         ]
        }
       ],
       "layout": {
        "coloraxis": {
         "colorbar": {
          "title": {
           "text": "median_valid_overall_acc"
          }
         },
         "colorscale": [
          [
           0,
           "#0d0887"
          ],
          [
           0.1111111111111111,
           "#46039f"
          ],
          [
           0.2222222222222222,
           "#7201a8"
          ],
          [
           0.3333333333333333,
           "#9c179e"
          ],
          [
           0.4444444444444444,
           "#bd3786"
          ],
          [
           0.5555555555555556,
           "#d8576b"
          ],
          [
           0.6666666666666666,
           "#ed7953"
          ],
          [
           0.7777777777777778,
           "#fb9f3a"
          ],
          [
           0.8888888888888888,
           "#fdca26"
          ],
          [
           1,
           "#f0f921"
          ]
         ]
        },
        "height": 800,
        "legend": {
         "itemsizing": "constant",
         "tracegroupgap": 0
        },
        "margin": {
         "t": 60
        },
        "scene": {
         "domain": {
          "x": [
           0,
           1
          ],
          "y": [
           0,
           1
          ]
         },
         "xaxis": {
          "title": {
           "text": "rank"
          }
         },
         "yaxis": {
          "title": {
           "text": "num_neurons"
          }
         },
         "zaxis": {
          "title": {
           "text": "median_test_overall_acc"
          }
         }
        },
        "template": {
         "data": {
          "bar": [
           {
            "error_x": {
             "color": "#2a3f5f"
            },
            "error_y": {
             "color": "#2a3f5f"
            },
            "marker": {
             "line": {
              "color": "#E5ECF6",
              "width": 0.5
             },
             "pattern": {
              "fillmode": "overlay",
              "size": 10,
              "solidity": 0.2
             }
            },
            "type": "bar"
           }
          ],
          "barpolar": [
           {
            "marker": {
             "line": {
              "color": "#E5ECF6",
              "width": 0.5
             },
             "pattern": {
              "fillmode": "overlay",
              "size": 10,
              "solidity": 0.2
             }
            },
            "type": "barpolar"
           }
          ],
          "carpet": [
           {
            "aaxis": {
             "endlinecolor": "#2a3f5f",
             "gridcolor": "white",
             "linecolor": "white",
             "minorgridcolor": "white",
             "startlinecolor": "#2a3f5f"
            },
            "baxis": {
             "endlinecolor": "#2a3f5f",
             "gridcolor": "white",
             "linecolor": "white",
             "minorgridcolor": "white",
             "startlinecolor": "#2a3f5f"
            },
            "type": "carpet"
           }
          ],
          "choropleth": [
           {
            "colorbar": {
             "outlinewidth": 0,
             "ticks": ""
            },
            "type": "choropleth"
           }
          ],
          "contour": [
           {
            "colorbar": {
             "outlinewidth": 0,
             "ticks": ""
            },
            "colorscale": [
             [
              0,
              "#0d0887"
             ],
             [
              0.1111111111111111,
              "#46039f"
             ],
             [
              0.2222222222222222,
              "#7201a8"
             ],
             [
              0.3333333333333333,
              "#9c179e"
             ],
             [
              0.4444444444444444,
              "#bd3786"
             ],
             [
              0.5555555555555556,
              "#d8576b"
             ],
             [
              0.6666666666666666,
              "#ed7953"
             ],
             [
              0.7777777777777778,
              "#fb9f3a"
             ],
             [
              0.8888888888888888,
              "#fdca26"
             ],
             [
              1,
              "#f0f921"
             ]
            ],
            "type": "contour"
           }
          ],
          "contourcarpet": [
           {
            "colorbar": {
             "outlinewidth": 0,
             "ticks": ""
            },
            "type": "contourcarpet"
           }
          ],
          "heatmap": [
           {
            "colorbar": {
             "outlinewidth": 0,
             "ticks": ""
            },
            "colorscale": [
             [
              0,
              "#0d0887"
             ],
             [
              0.1111111111111111,
              "#46039f"
             ],
             [
              0.2222222222222222,
              "#7201a8"
             ],
             [
              0.3333333333333333,
              "#9c179e"
             ],
             [
              0.4444444444444444,
              "#bd3786"
             ],
             [
              0.5555555555555556,
              "#d8576b"
             ],
             [
              0.6666666666666666,
              "#ed7953"
             ],
             [
              0.7777777777777778,
              "#fb9f3a"
             ],
             [
              0.8888888888888888,
              "#fdca26"
             ],
             [
              1,
              "#f0f921"
             ]
            ],
            "type": "heatmap"
           }
          ],
          "heatmapgl": [
           {
            "colorbar": {
             "outlinewidth": 0,
             "ticks": ""
            },
            "colorscale": [
             [
              0,
              "#0d0887"
             ],
             [
              0.1111111111111111,
              "#46039f"
             ],
             [
              0.2222222222222222,
              "#7201a8"
             ],
             [
              0.3333333333333333,
              "#9c179e"
             ],
             [
              0.4444444444444444,
              "#bd3786"
             ],
             [
              0.5555555555555556,
              "#d8576b"
             ],
             [
              0.6666666666666666,
              "#ed7953"
             ],
             [
              0.7777777777777778,
              "#fb9f3a"
             ],
             [
              0.8888888888888888,
              "#fdca26"
             ],
             [
              1,
              "#f0f921"
             ]
            ],
            "type": "heatmapgl"
           }
          ],
          "histogram": [
           {
            "marker": {
             "pattern": {
              "fillmode": "overlay",
              "size": 10,
              "solidity": 0.2
             }
            },
            "type": "histogram"
           }
          ],
          "histogram2d": [
           {
            "colorbar": {
             "outlinewidth": 0,
             "ticks": ""
            },
            "colorscale": [
             [
              0,
              "#0d0887"
             ],
             [
              0.1111111111111111,
              "#46039f"
             ],
             [
              0.2222222222222222,
              "#7201a8"
             ],
             [
              0.3333333333333333,
              "#9c179e"
             ],
             [
              0.4444444444444444,
              "#bd3786"
             ],
             [
              0.5555555555555556,
              "#d8576b"
             ],
             [
              0.6666666666666666,
              "#ed7953"
             ],
             [
              0.7777777777777778,
              "#fb9f3a"
             ],
             [
              0.8888888888888888,
              "#fdca26"
             ],
             [
              1,
              "#f0f921"
             ]
            ],
            "type": "histogram2d"
           }
          ],
          "histogram2dcontour": [
           {
            "colorbar": {
             "outlinewidth": 0,
             "ticks": ""
            },
            "colorscale": [
             [
              0,
              "#0d0887"
             ],
             [
              0.1111111111111111,
              "#46039f"
             ],
             [
              0.2222222222222222,
              "#7201a8"
             ],
             [
              0.3333333333333333,
              "#9c179e"
             ],
             [
              0.4444444444444444,
              "#bd3786"
             ],
             [
              0.5555555555555556,
              "#d8576b"
             ],
             [
              0.6666666666666666,
              "#ed7953"
             ],
             [
              0.7777777777777778,
              "#fb9f3a"
             ],
             [
              0.8888888888888888,
              "#fdca26"
             ],
             [
              1,
              "#f0f921"
             ]
            ],
            "type": "histogram2dcontour"
           }
          ],
          "mesh3d": [
           {
            "colorbar": {
             "outlinewidth": 0,
             "ticks": ""
            },
            "type": "mesh3d"
           }
          ],
          "parcoords": [
           {
            "line": {
             "colorbar": {
              "outlinewidth": 0,
              "ticks": ""
             }
            },
            "type": "parcoords"
           }
          ],
          "pie": [
           {
            "automargin": true,
            "type": "pie"
           }
          ],
          "scatter": [
           {
            "marker": {
             "colorbar": {
              "outlinewidth": 0,
              "ticks": ""
             }
            },
            "type": "scatter"
           }
          ],
          "scatter3d": [
           {
            "line": {
             "colorbar": {
              "outlinewidth": 0,
              "ticks": ""
             }
            },
            "marker": {
             "colorbar": {
              "outlinewidth": 0,
              "ticks": ""
             }
            },
            "type": "scatter3d"
           }
          ],
          "scattercarpet": [
           {
            "marker": {
             "colorbar": {
              "outlinewidth": 0,
              "ticks": ""
             }
            },
            "type": "scattercarpet"
           }
          ],
          "scattergeo": [
           {
            "marker": {
             "colorbar": {
              "outlinewidth": 0,
              "ticks": ""
             }
            },
            "type": "scattergeo"
           }
          ],
          "scattergl": [
           {
            "marker": {
             "colorbar": {
              "outlinewidth": 0,
              "ticks": ""
             }
            },
            "type": "scattergl"
           }
          ],
          "scattermapbox": [
           {
            "marker": {
             "colorbar": {
              "outlinewidth": 0,
              "ticks": ""
             }
            },
            "type": "scattermapbox"
           }
          ],
          "scatterpolar": [
           {
            "marker": {
             "colorbar": {
              "outlinewidth": 0,
              "ticks": ""
             }
            },
            "type": "scatterpolar"
           }
          ],
          "scatterpolargl": [
           {
            "marker": {
             "colorbar": {
              "outlinewidth": 0,
              "ticks": ""
             }
            },
            "type": "scatterpolargl"
           }
          ],
          "scatterternary": [
           {
            "marker": {
             "colorbar": {
              "outlinewidth": 0,
              "ticks": ""
             }
            },
            "type": "scatterternary"
           }
          ],
          "surface": [
           {
            "colorbar": {
             "outlinewidth": 0,
             "ticks": ""
            },
            "colorscale": [
             [
              0,
              "#0d0887"
             ],
             [
              0.1111111111111111,
              "#46039f"
             ],
             [
              0.2222222222222222,
              "#7201a8"
             ],
             [
              0.3333333333333333,
              "#9c179e"
             ],
             [
              0.4444444444444444,
              "#bd3786"
             ],
             [
              0.5555555555555556,
              "#d8576b"
             ],
             [
              0.6666666666666666,
              "#ed7953"
             ],
             [
              0.7777777777777778,
              "#fb9f3a"
             ],
             [
              0.8888888888888888,
              "#fdca26"
             ],
             [
              1,
              "#f0f921"
             ]
            ],
            "type": "surface"
           }
          ],
          "table": [
           {
            "cells": {
             "fill": {
              "color": "#EBF0F8"
             },
             "line": {
              "color": "white"
             }
            },
            "header": {
             "fill": {
              "color": "#C8D4E3"
             },
             "line": {
              "color": "white"
             }
            },
            "type": "table"
           }
          ]
         },
         "layout": {
          "annotationdefaults": {
           "arrowcolor": "#2a3f5f",
           "arrowhead": 0,
           "arrowwidth": 1
          },
          "autotypenumbers": "strict",
          "coloraxis": {
           "colorbar": {
            "outlinewidth": 0,
            "ticks": ""
           }
          },
          "colorscale": {
           "diverging": [
            [
             0,
             "#8e0152"
            ],
            [
             0.1,
             "#c51b7d"
            ],
            [
             0.2,
             "#de77ae"
            ],
            [
             0.3,
             "#f1b6da"
            ],
            [
             0.4,
             "#fde0ef"
            ],
            [
             0.5,
             "#f7f7f7"
            ],
            [
             0.6,
             "#e6f5d0"
            ],
            [
             0.7,
             "#b8e186"
            ],
            [
             0.8,
             "#7fbc41"
            ],
            [
             0.9,
             "#4d9221"
            ],
            [
             1,
             "#276419"
            ]
           ],
           "sequential": [
            [
             0,
             "#0d0887"
            ],
            [
             0.1111111111111111,
             "#46039f"
            ],
            [
             0.2222222222222222,
             "#7201a8"
            ],
            [
             0.3333333333333333,
             "#9c179e"
            ],
            [
             0.4444444444444444,
             "#bd3786"
            ],
            [
             0.5555555555555556,
             "#d8576b"
            ],
            [
             0.6666666666666666,
             "#ed7953"
            ],
            [
             0.7777777777777778,
             "#fb9f3a"
            ],
            [
             0.8888888888888888,
             "#fdca26"
            ],
            [
             1,
             "#f0f921"
            ]
           ],
           "sequentialminus": [
            [
             0,
             "#0d0887"
            ],
            [
             0.1111111111111111,
             "#46039f"
            ],
            [
             0.2222222222222222,
             "#7201a8"
            ],
            [
             0.3333333333333333,
             "#9c179e"
            ],
            [
             0.4444444444444444,
             "#bd3786"
            ],
            [
             0.5555555555555556,
             "#d8576b"
            ],
            [
             0.6666666666666666,
             "#ed7953"
            ],
            [
             0.7777777777777778,
             "#fb9f3a"
            ],
            [
             0.8888888888888888,
             "#fdca26"
            ],
            [
             1,
             "#f0f921"
            ]
           ]
          },
          "colorway": [
           "#636efa",
           "#EF553B",
           "#00cc96",
           "#ab63fa",
           "#FFA15A",
           "#19d3f3",
           "#FF6692",
           "#B6E880",
           "#FF97FF",
           "#FECB52"
          ],
          "font": {
           "color": "#2a3f5f"
          },
          "geo": {
           "bgcolor": "white",
           "lakecolor": "white",
           "landcolor": "#E5ECF6",
           "showlakes": true,
           "showland": true,
           "subunitcolor": "white"
          },
          "hoverlabel": {
           "align": "left"
          },
          "hovermode": "closest",
          "mapbox": {
           "style": "light"
          },
          "paper_bgcolor": "white",
          "plot_bgcolor": "#E5ECF6",
          "polar": {
           "angularaxis": {
            "gridcolor": "white",
            "linecolor": "white",
            "ticks": ""
           },
           "bgcolor": "#E5ECF6",
           "radialaxis": {
            "gridcolor": "white",
            "linecolor": "white",
            "ticks": ""
           }
          },
          "scene": {
           "xaxis": {
            "backgroundcolor": "#E5ECF6",
            "gridcolor": "white",
            "gridwidth": 2,
            "linecolor": "white",
            "showbackground": true,
            "ticks": "",
            "zerolinecolor": "white"
           },
           "yaxis": {
            "backgroundcolor": "#E5ECF6",
            "gridcolor": "white",
            "gridwidth": 2,
            "linecolor": "white",
            "showbackground": true,
            "ticks": "",
            "zerolinecolor": "white"
           },
           "zaxis": {
            "backgroundcolor": "#E5ECF6",
            "gridcolor": "white",
            "gridwidth": 2,
            "linecolor": "white",
            "showbackground": true,
            "ticks": "",
            "zerolinecolor": "white"
           }
          },
          "shapedefaults": {
           "line": {
            "color": "#2a3f5f"
           }
          },
          "ternary": {
           "aaxis": {
            "gridcolor": "white",
            "linecolor": "white",
            "ticks": ""
           },
           "baxis": {
            "gridcolor": "white",
            "linecolor": "white",
            "ticks": ""
           },
           "bgcolor": "#E5ECF6",
           "caxis": {
            "gridcolor": "white",
            "linecolor": "white",
            "ticks": ""
           }
          },
          "title": {
           "x": 0.05
          },
          "xaxis": {
           "automargin": true,
           "gridcolor": "white",
           "linecolor": "white",
           "ticks": "",
           "title": {
            "standoff": 15
           },
           "zerolinecolor": "white",
           "zerolinewidth": 2
          },
          "yaxis": {
           "automargin": true,
           "gridcolor": "white",
           "linecolor": "white",
           "ticks": "",
           "title": {
            "standoff": 15
           },
           "zerolinecolor": "white",
           "zerolinewidth": 2
          }
         }
        }
       }
      }
     },
     "metadata": {},
     "output_type": "display_data"
    }
   ],
   "source": [
    "# validation_df.groupby(\"architecture_id\").mean().sort_values(by=\"test_overall_acc\", ascending=True)\n",
    "# validation_df.describe()\n",
    "\n",
    "def is_pareto_efficient(costs, return_mask = True):\n",
    "    \"\"\"\n",
    "    Find the pareto-efficient points\n",
    "    :param costs: An (n_points, n_costs) array of costs to be minimized\n",
    "    :param return_mask: True to return a mask\n",
    "    :return: An array of indices of pareto-efficient points.\n",
    "        If return_mask is True, this will be an (n_points, ) boolean array\n",
    "        Otherwise it will be a (n_efficient_points, ) integer array of indices.\n",
    "    \"\"\"\n",
    "    is_efficient = np.arange(costs.shape[0])\n",
    "    n_points = costs.shape[0]\n",
    "    next_point_index = 0  # Next index in the is_efficient array to search for\n",
    "    while next_point_index<len(costs):\n",
    "        nondominated_point_mask = np.any(costs<costs[next_point_index], axis=1)\n",
    "        nondominated_point_mask[next_point_index] = True\n",
    "        is_efficient = is_efficient[nondominated_point_mask]  # Remove dominated points\n",
    "        costs = costs[nondominated_point_mask]\n",
    "        next_point_index = np.sum(nondominated_point_mask[:next_point_index])+1\n",
    "    if return_mask:\n",
    "        is_efficient_mask = np.zeros(n_points, dtype = bool)\n",
    "        is_efficient_mask[is_efficient] = True\n",
    "        return is_efficient_mask\n",
    "    else:\n",
    "        return is_efficient\n",
    "\n",
    "tmp_df= pd.DataFrame()\n",
    "\n",
    "grouped_df = validation_df.groupby([\"architecture_id\"]).agg([\"mean\", \"median\", \"std\", \"count\"]).reset_index()\n",
    "tmp_df[\"num_neurons\"] = grouped_df[(\"num_neurons\", \"mean\")]\n",
    "# grouped_df = validation_df.groupby([\"num_neurons\"]).agg([\"mean\", \"median\", \"std\", \"count\"]).reset_index()\n",
    "# tmp_df[\"num_neurons\"] = grouped_df[\"num_neurons\"]\n",
    "tmp_df[\"activation\"] = validation_df.groupby(\"architecture_id\").agg({\"activation\": \"first\"})\n",
    "for k in [\"mean\", \"std\", \"median\"]:\n",
    "\ttmp_df[f\"{k}_regularization_term\"] = grouped_df[(\"regularization_term\", k)]\n",
    "\ttmp_df[f\"{k}_training_loss\"] = grouped_df[(\"training_loss\", k)]\n",
    "\ttmp_df[f\"{k}_validation_loss\"] = grouped_df[(\"validation_loss\", k)]\n",
    "\ttmp_df[f\"{k}_train_overall_acc\"] = grouped_df[(\"train_overall_acc\", k)]\n",
    "\ttmp_df[f\"{k}_valid_overall_acc\"] = grouped_df[(\"valid_overall_acc\", k)]\n",
    "\ttmp_df[f\"{k}_test_overall_acc\"] = grouped_df[(\"test_overall_acc\", k)]\n",
    "\t# tmp_df[f\"{k}_train_matthews_corrcoef\"] = grouped_df[(\"train_matthews_corrcoef\", k)]\n",
    "\ttmp_df[f\"{k}_valid_matthews_corrcoef\"] = grouped_df[(\"valid_matthews_corrcoef\", k)]\n",
    "\ttmp_df[f\"{k}_test_matthews_corrcoef\"] = grouped_df[(\"test_matthews_corrcoef\", k)]\n",
    "tmp_df[\"log_std_validation_loss\"] = np.log10(tmp_df[\"std_validation_loss\"])\n",
    "tmp_df[\"1-std_validation_loss\"] = 1-tmp_df[\"std_validation_loss\"]\n",
    "tmp_df[\"median_validation_training_loss_gap\"] = tmp_df[\"median_validation_loss\"] - tmp_df[\"median_training_loss\"]\n",
    "tmp_df[\"minimized_median_valid_matthews_corrcoef\"] = 1-tmp_df[\"median_valid_matthews_corrcoef\"] \n",
    "tmp_df[\"minimized_median_valid_overall_acc\"] = 1-tmp_df[\"median_valid_overall_acc\"] \n",
    "keys = [\n",
    "\t(\"num_neurons\", -1),\n",
    "\t(\"mean_validation_loss\", -1),\n",
    "\t# (\"median_validation_loss\", -1),\n",
    "\t(\"std_validation_loss\", -1),\n",
    "    # (\"minimized_median_valid_matthews_corrcoef\", -1),\n",
    "    # (\"minimized_median_valid_overall_acc\", -1),\n",
    "\t# (\"median_regularization_term\", -1),\n",
    "\t# (\"mean_valid_overall_acc\", 1)\n",
    "]\n",
    "mcdm_keys = [k[0] for k in keys]\n",
    "decision_matrix = tmp_df[mcdm_keys].to_numpy()\n",
    "types = np.array([k[1] for k in keys])\n",
    "pareto_efficient_mask = is_pareto_efficient(decision_matrix)\n",
    "\n",
    "tmp_df = tmp_df.iloc[pareto_efficient_mask, :]\n",
    "decision_matrix = tmp_df[mcdm_keys].to_numpy()\n",
    "# print(decision_matrix[:10, :])\n",
    "\n",
    "matrix = pymcdm.normalizations.normalize_matrix(decision_matrix, pymcdm.normalizations.minmax_normalization, types)\n",
    "# pareto_decision_matrix[:, 1] = 1 - pareto_decision_matrix[:, 1]\n",
    "\n",
    "# decision_matrix = decision_matrix[pareto_efficient_mask, :]\n",
    "# tmp_df = tmp_df.iloc[pareto_efficient_mask, :]\n",
    "# matrix = matrix[pareto_efficient_mask]\n",
    "# matrix = pymcdm.normalizations.normalize_matrix(decision_matrix, pymcdm.normalizations.minmax_normalization, types)\n",
    "\n",
    "# print(decision_matrix[:10, :])\n",
    "weights=pymcdm.weights.equal_weights(matrix)\n",
    "# weights=pymcdm.weights.entropy_weights(matrix)\n",
    "weights=np.array([0.5, 0.4, 0.1])\n",
    "# weights=np.array([1.0, 1.0, 1.0])\n",
    "# weights=pymcdm.weights.entropy_weights(matrix)\n",
    "# weights=pymcdm.weights.standard_deviation_weights(matrix)\n",
    "# weights=pymcdm.weights.angle_weights(matrix, types)\n",
    "# weights=pymcdm.weights.gini_weights(matrix, types)\n",
    "\n",
    "mcdm_method = pymcdm.methods.ARAS()\n",
    "mcdm_method = pymcdm.methods.COCOSO()\n",
    "mcdm_method = pymcdm.methods.CODAS()\n",
    "# mcdm_method = pymcdm.methods.COMET()\n",
    "# mcdm_method = pymcdm.methods.MARCOS()\n",
    "# mcdm_method = pymcdm.methods.EDAS() # bad\n",
    "# mcdm_method = pymcdm.methods.MABAC() # bad\n",
    "# mcdm_method = pymcdm.methods.OCRA() # failed\n",
    "# mcdm_method = pymcdm.methods.MOORA() # failed\n",
    "# mcdm_method = pymcdm.methods.COPRAS() # failed\n",
    "mcdm_method = pymcdm.methods.COPRAS()\n",
    "mcdm_method = pymcdm.methods.EDAS()\n",
    "mcdm_method = pymcdm.methods.MABAC()\n",
    "mcdm_method = pymcdm.methods.VIKOR()\n",
    "mcdm_method = pymcdm.methods.MAIRCA()\n",
    "mcdm_method = pymcdm.methods.TOPSIS(pymcdm.normalizations.vector_normalization)\n",
    "\n",
    "\n",
    "# bounds =  np.vstack((\n",
    "#     np.min(matrix, axis=0),\n",
    "#     np.max(matrix, axis=0)\n",
    "# )).T\n",
    "# mcdm_method = pymcdm.methods.SPOTIS()\n",
    "# tmp_df[\"rank\"] = mcdm_method(matrix, weights, types, bounds=bounds)\n",
    "\n",
    "# mcdm_method = pymcdm.methods.PROMETHEE_II('usual')\n",
    "\n",
    "# cvalues =  np.vstack((\n",
    "#     np.min(matrix, axis=0),\n",
    "#     np.mean(matrix, axis=0),\n",
    "#     np.max(matrix, axis=0)\n",
    "# )).T\n",
    "# mcdm_method = pymcdm.methods.COMET(cvalues=cvalues, rate_function=pymcdm.methods.COMET.topsis_rate_function(weights, types))\n",
    "\n",
    "# mcdm_method = pymcdm.methods.TOPSIS()\n",
    "# mcdm_method = pymcdm.methods.VIKOR()\n",
    "\n",
    "# drop_idxs = np.where((matrix==0).sum(-1))[0]\n",
    "# drop_idxs = (matrix==0).sum(-1).astype(np.bool)\n",
    "# decision_matrix = decision_matrix[~drop_idxs, :]\n",
    "# matrix = matrix[~drop_idxs, :]\n",
    "# tmp_df = tmp_df.iloc[~drop_idxs, :]\n",
    "\n",
    "# print(valid_idxs)\n",
    "print((matrix==0).sum())\n",
    "\n",
    "# mcdm_method = pymcdm.methods.MARCOS()\n",
    "tmp_df[\"rank\"] = mcdm_method(decision_matrix, weights, types)\n",
    "tmp_df.head()\n",
    "\n",
    "\n",
    "z = \"mean_test_overall_acc\"\n",
    "z = \"median_test_overall_acc\"\n",
    "\n",
    "y = \"num_neurons\"\n",
    "# y = \"median_valid_matthews_corrcoef\"\n",
    "\n",
    "# x = \"median_regularization_term\"\n",
    "# x = \"mean_regularization_term\"\n",
    "# x = \"median_validation_loss\"\n",
    "# x = \"std_validation_loss\"\n",
    "x = \"rank\"\n",
    "# x = \"median_valid_matthews_corrcoef\"\n",
    "\n",
    "color = \"median_validation_training_loss_gap\"\n",
    "color = \"median_validation_loss\"\n",
    "color = \"mean_valid_overall_acc\"\n",
    "color = \"median_valid_overall_acc\"\n",
    "# color=\"activation_name\"\n",
    "# color=\"median_validation_loss\"\n",
    "# color=\"is_pareto_efficient\"\n",
    "# color=\"rank\"\n",
    "\n",
    "# size = \"1-std_validation_loss\"\n",
    "size=\"mean_valid_overall_acc\"\n",
    "size=\"num_neurons\"\n",
    "\n",
    "\n",
    "# tmp_df[\"is_pareto_efficient\"] = is_pareto_efficient(decision_matrix)\n",
    "\n",
    "# tmp_df[\"is_pareto_efficient\"] = pareto_efficient_mask\n",
    "\n",
    "# tmp_df=tmp_df[tmp_df[\"activation\"] == \"ReLU()\"]\n",
    "tmp_df.head()\n",
    "\n",
    "# tmp_df.describe()\n",
    "\n",
    "# ## KNEE ##\n",
    "# from kneed import KneeLocator\n",
    "# # tmp_df_pareto = tmp_df[tmp_df[\"is_pareto_efficient\"]]\n",
    "# tmp_df = tmp_df[tmp_df[\"activation\"] == \"Identity()\"]\n",
    "# k = KneeLocator(\n",
    "# \tx=tmp_df[\"num_neurons\"],\n",
    "# \t# x=matrix[tmp_df[\"is_pareto_efficient\"].to_numpy().astype(np.bool), 0],\n",
    "# \ty=tmp_df[\"mean_validation_loss\"],\n",
    "# \tcurve=\"convex\",\n",
    "# \tdirection=\"decreasing\",\n",
    "# \tinterp_method=\"polynomial\",\n",
    "# \tpolynomial_degree=10,\n",
    "# )\n",
    "# import matplotlib.pyplot as plt\n",
    "# # k.plot_knee_normalized()\n",
    "# k.plot_knee()\n",
    "# print(f\"knee={k.knee} {k}\")\n",
    "# # # plt.show()\n",
    "\n",
    "# ## KNEE ##\n",
    "# # validation_df.describe()\n",
    "# px.scatter(tmp_df, x=\"rank\", y=z, color=color, size=\"num_neurons\", height=500)\n",
    "# px.scatter_3d(tmp_df[tmp_df[\"median_regularization_term\"] <= tmp_df[\"median_regularization_term\"].quantile(0.999)], x=x, y=y, z=z, color=color, size=size,height=800)\n",
    "# px.scatter_3d(tmp_df[tmp_df['is_pareto_efficient']], x=x, y=y, z=z, color=color, size=size,height=800)\n",
    "px.scatter_3d(tmp_df, x=x, y=y, z=z, color=color, size=size,height=800)\n",
    "# px.scatter_3d(validation_df[validation_df[\"regularization_term\"] <= validation_df[\"regularization_term\"].quantile(0.999)], x=\"num_neurons\", y=\"regularization_term\", z=\"test_overall_acc\", color=\"validation_loss\", size=\"training_loss\", height=800)\n",
    "# px.line(tmp_df, x=\"num_neurons\", y=\"median_validation_loss\", log_y=True)\n",
    "# sns.kdeplot(data=validation_df, x=\"regularization_term\")\n",
    "# tmp_df_pareto.sort_values(by=[\"rank\"], ascending=False)"
   ]
  },
  {
   "cell_type": "code",
   "execution_count": 215,
   "metadata": {},
   "outputs": [
    {
     "data": {
      "text/plain": [
       "array([[0.66  , 0.5932, 0.0845, 0.8542],\n",
       "       [0.65  , 0.5829, 0.1159, 0.898 ],\n",
       "       [0.64  , 0.6678, 0.1337, 0.8776],\n",
       "       [0.62  , 0.627 , 0.0989, 0.8907],\n",
       "       [0.53  , 0.4737, 0.1935, 0.9592],\n",
       "       [0.33  , 0.5662, 0.361 , 0.9767],\n",
       "       [0.99  , 0.2272, 0.    , 0.7099],\n",
       "       [0.75  , 0.1221, 0.4008, 0.9111],\n",
       "       [0.72  , 0.1717, 0.4074, 0.9052],\n",
       "       [0.65  , 0.    , 0.3178, 0.9213],\n",
       "       [0.63  , 0.0296, 0.3172, 0.9417],\n",
       "       [0.59  , 0.1855, 0.1815, 0.8746],\n",
       "       [0.57  , 0.09  , 0.2458, 0.9402],\n",
       "       [0.55  , 0.5742, 0.1328, 0.9402],\n",
       "       [0.54  , 0.4789, 0.1393, 0.9329],\n",
       "       [0.53  , 0.5491, 0.1487, 0.8367],\n",
       "       [0.51  , 0.3393, 0.2379, 0.9417],\n",
       "       [0.48  , 0.4887, 0.1633, 0.9227],\n",
       "       [0.46  , 0.4311, 0.2161, 0.8878],\n",
       "       [0.42  , 0.2378, 0.2611, 0.9067],\n",
       "       [0.39  , 0.54  , 0.2869, 0.9461],\n",
       "       [0.38  , 0.5559, 0.3191, 0.9548],\n",
       "       [0.35  , 0.4223, 0.3339, 0.9708],\n",
       "       [0.34  , 0.4723, 0.32  , 0.9665],\n",
       "       [0.32  , 0.765 , 0.3709, 0.9431],\n",
       "       [0.31  , 0.8618, 0.3849, 0.9752],\n",
       "       [0.28  , 0.8834, 0.3747, 0.9694],\n",
       "       [0.27  , 0.8528, 0.4161, 0.9708],\n",
       "       [0.22  , 0.3807, 0.3578, 0.984 ],\n",
       "       [0.2   , 0.881 , 0.4076, 0.9636],\n",
       "       [0.18  , 0.4818, 0.3745, 0.9781],\n",
       "       [0.14  , 0.8377, 0.442 , 0.9796],\n",
       "       [0.08  , 0.9349, 0.4375, 0.9825],\n",
       "       [0.07  , 0.8293, 0.4456, 0.9694],\n",
       "       [0.06  , 0.968 , 0.4524, 0.9927],\n",
       "       [0.03  , 0.9322, 0.4569, 0.9927],\n",
       "       [0.    , 0.8854, 0.4612, 0.9781]])"
      ]
     },
     "execution_count": 215,
     "metadata": {},
     "output_type": "execute_result"
    }
   ],
   "source": [
    "# px.scatter_3d(tmp_df, x=\"1-std_validation_loss\", y=\"num_neurons\", z=\"mean_test_overall_acc\", color=\"mean_valid_overall_acc\", size=\"mean_validation_loss\",height=800)\n",
    "matrix\n",
    "# Faster than is_pareto_efficient_simple, but less readable.\n",
    "def is_pareto_efficient(costs, return_mask = True):\n",
    "    \"\"\"\n",
    "    Find the pareto-efficient points\n",
    "    :param costs: An (n_points, n_costs) array\n",
    "    :param return_mask: True to return a mask\n",
    "    :return: An array of indices of pareto-efficient points.\n",
    "        If return_mask is True, this will be an (n_points, ) boolean array\n",
    "        Otherwise it will be a (n_efficient_points, ) integer array of indices.\n",
    "    \"\"\"\n",
    "    is_efficient = np.arange(costs.shape[0])\n",
    "    n_points = costs.shape[0]\n",
    "    next_point_index = 0  # Next index in the is_efficient array to search for\n",
    "    while next_point_index<len(costs):\n",
    "        nondominated_point_mask = np.any(costs<costs[next_point_index], axis=1)\n",
    "        nondominated_point_mask[next_point_index] = True\n",
    "        is_efficient = is_efficient[nondominated_point_mask]  # Remove dominated points\n",
    "        costs = costs[nondominated_point_mask]\n",
    "        next_point_index = np.sum(nondominated_point_mask[:next_point_index])+1\n",
    "    if return_mask:\n",
    "        is_efficient_mask = np.zeros(n_points, dtype = bool)\n",
    "        is_efficient_mask[is_efficient] = True\n",
    "        return is_efficient_mask\n",
    "    else:\n",
    "        return is_efficient\n",
    "\n",
    "pareto_idxs = is_pareto_efficient(matrix)\n",
    "matrix[pareto_idxs]\n"
   ]
  }
 ],
 "metadata": {
  "interpreter": {
   "hash": "cc21e4c9d88afcef61bcb3ba1b16733ea3e4a8d1372916231c1506eec2a4141f"
  },
  "kernelspec": {
   "display_name": "Python 3.8.5 64-bit ('doutorado': conda)",
   "language": "python",
   "name": "python3"
  },
  "language_info": {
   "codemirror_mode": {
    "name": "ipython",
    "version": 3
   },
   "file_extension": ".py",
   "mimetype": "text/x-python",
   "name": "python",
   "nbconvert_exporter": "python",
   "pygments_lexer": "ipython3",
   "version": "3.8.5"
  },
  "orig_nbformat": 4
 },
 "nbformat": 4,
 "nbformat_minor": 2
}
